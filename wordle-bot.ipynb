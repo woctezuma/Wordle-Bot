{
  "nbformat": 4,
  "nbformat_minor": 0,
  "metadata": {
    "colab": {
      "name": "wordle-bot.ipynb",
      "private_outputs": true,
      "provenance": [],
      "collapsed_sections": []
    },
    "kernelspec": {
      "name": "python3",
      "display_name": "Python 3"
    },
    "language_info": {
      "name": "python"
    },
    "gpuClass": "standard"
  },
  "cells": [
    {
      "cell_type": "code",
      "execution_count": null,
      "metadata": {
        "id": "R_1YAhbAxKLn"
      },
      "outputs": [],
      "source": [
        "%cd /content\n",
        "!git clone https://github.com/woctezuma/Wordle-Bot.git\n",
        "%cd Wordle-Bot\n",
        "!git checkout my-main\n",
        "%pip install -q -r requirements.txt"
      ]
    },
    {
      "cell_type": "code",
      "source": [
        "!wget https://github.com/woctezuma/Wordle-Bot/releases/download/patterns/dungleon.zip\n",
        "!wget https://github.com/woctezuma/Wordle-Bot/releases/download/patterns/wordle.zip\n",
        "\n",
        "!unzip dungleon.zip\n",
        "!unzip wordle.zip"
      ],
      "metadata": {
        "id": "QF5md8yiQZSj"
      },
      "execution_count": null,
      "outputs": []
    },
    {
      "cell_type": "code",
      "source": [
        "%cp wordle/pattern_dict_*.p .\n",
        "!python wordle.py --game-name wordle --first-guess tares"
      ],
      "metadata": {
        "id": "1Ptr-nCgzagX"
      },
      "execution_count": null,
      "outputs": []
    },
    {
      "cell_type": "code",
      "source": [
        "%cp dungleon/pattern_dict_*.p .\n",
        "!python wordle.py --game-name dungleon --first-guess EFCBS"
      ],
      "metadata": {
        "id": "dzE4IqBwQ7Xy"
      },
      "execution_count": null,
      "outputs": []
    }
  ]
}
